{
 "cells": [
  {
   "cell_type": "markdown",
   "metadata": {},
   "source": [
    "# Notebooks\n",
    "\n",
    "Notebooks are documents representing all input anda output operations. This include code, images, video, text input and plots. These files have .ipynb extensions. \n",
    "\n",
    "\n",
    "# Cells\n",
    "The Cell can countain a cod or documentation.\n",
    "\n",
    "\n",
    "# Markdwon Cells\n",
    "This cell is a Markdown Cell. It can contain:\n",
    "\n",
    " - Markdown language          \n",
    " - HTML\n",
    " - LateX \n",
    " \n",
    "        **Markdown** *Example*\n",
    "        <strong>HTML Example</strong>\n",
    "        \n",
    "**Markdown** *Example*\n",
    "\n",
    "<strong>HTML Example</strong>\n",
    "\n",
    "$LATEX$ \n",
    " \n",
    " \n",
    "# Heading Cells\n",
    "Heading cells are great for creating bookmarks in an IPython Notebook. There are 6 levels of hierarchical organization and formatting:\n",
    "\n",
    "# Heading 1\n",
    "\n",
    "## Heading 2\n",
    "\n",
    "### Heading 3\n",
    "\n",
    "#### Heading 4\n",
    "\n",
    "##### Heading 5\n",
    "\n",
    "###### Heading 6\n",
    "\n",
    "\n",
    "\n",
    "# Linking to a Heading\n",
    "Linking to a heading is like linking to an HTML Bookmark.\n",
    "\n",
    "### Relative Links:\n",
    "    \n",
    "    <a href=\"#Heading-1\">Link example to Heading-1</a>\n",
    "    OR\n",
    "    [Link example to Heading-1](#Heading-1)\n",
    "    \n",
    "    \n",
    "<a href=\"#Heading-1\">Link example to Heading-1</a>\n",
    "###### OR\n",
    "[Link example to Heading-1](#Heading-1)\n",
    "\n",
    "\n",
    "### Absolute Links:\n",
    "    <a href=\"http://localhost:8888/notebooks/Documents/GitHub/Tutorials-Jupyter/Untitled.ipynb?kernel_name=python3#Heading-1\">Link example to a Head-1</a>\n",
    "<a href=\"http://localhost:8888/notebooks/Documents/GitHub/Tutorials-Jupyter/Untitled.ipynb?kernel_name=python3#Heading-1\">Link example to a Head-1</a>"
   ]
  },
  {
   "cell_type": "markdown",
   "metadata": {},
   "source": [
    "# Raw NBConvert\n",
    "Basically it's only of any use if you intend to use the command line tool nbconvert to convert the notebook to another format (HTML or Latex). When you do, cells marked as Raw NBConvert Format will be converted in a way specific to the output you're targetting."
   ]
  },
  {
   "cell_type": "raw",
   "metadata": {},
   "source": [
    "This is a Raw NBConvert cell. It doesn't render its contents. The problem with them is they may render come tags in IPython NBViewer."
   ]
  },
  {
   "cell_type": "markdown",
   "metadata": {},
   "source": [
    "# Code Cells"
   ]
  },
  {
   "cell_type": "code",
   "execution_count": 2,
   "metadata": {},
   "outputs": [
    {
     "data": {
      "text/plain": [
       "5"
      ]
     },
     "execution_count": 2,
     "metadata": {},
     "output_type": "execute_result"
    }
   ],
   "source": [
    "3 + 2"
   ]
  },
  {
   "cell_type": "code",
   "execution_count": 3,
   "metadata": {},
   "outputs": [
    {
     "data": {
      "text/plain": [
       "6"
      ]
     },
     "execution_count": 3,
     "metadata": {},
     "output_type": "execute_result"
    }
   ],
   "source": [
    "3 + 2 \n",
    "2 * 3"
   ]
  },
  {
   "cell_type": "code",
   "execution_count": 4,
   "metadata": {},
   "outputs": [
    {
     "data": {
      "text/plain": [
       "7"
      ]
     },
     "execution_count": 4,
     "metadata": {},
     "output_type": "execute_result"
    }
   ],
   "source": [
    "x = 2\n",
    "y = 5\n",
    "x + y"
   ]
  },
  {
   "cell_type": "code",
   "execution_count": 5,
   "metadata": {},
   "outputs": [
    {
     "data": {
      "text/plain": [
       "7"
      ]
     },
     "execution_count": 5,
     "metadata": {},
     "output_type": "execute_result"
    }
   ],
   "source": [
    "z = x + y\n",
    "z"
   ]
  },
  {
   "cell_type": "markdown",
   "metadata": {},
   "source": [
    "# Shortcuts\n",
    "\n",
    "### Cells\n",
    " - Cut:   X\n",
    " - Copy:    C\n",
    " - Paste cell above:    Shift + V\n",
    " - Paste cell below:    V\n",
    " - Delete:    D + D\n",
    " - Insert cell Above:    A\n",
    " - Insert cell Below:    B\n",
    " - Split:    Ctrl + Shift + -\n",
    " - Undo delete:    Z\n",
    " - Type Code: Y\n",
    " - Type Marckdown: M\n",
    " - Type Raw NBConvert:  R\n",
    " \n",
    "### Run and Save\n",
    " - Save: Ctrl + Save\n",
    " - Run cells:   Ctrl + Enter\n",
    " - Run cells and select below:  Shift + Enter\n",
    " - Run cells and insert below:  Alt + Enter"
   ]
  }
 ],
 "metadata": {
  "kernelspec": {
   "display_name": "Python 3",
   "language": "python",
   "name": "python3"
  },
  "language_info": {
   "codemirror_mode": {
    "name": "ipython",
    "version": 3
   },
   "file_extension": ".py",
   "mimetype": "text/x-python",
   "name": "python",
   "nbconvert_exporter": "python",
   "pygments_lexer": "ipython3",
   "version": "3.8.5"
  }
 },
 "nbformat": 4,
 "nbformat_minor": 4
}
