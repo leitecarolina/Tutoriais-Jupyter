{
 "cells": [
  {
   "cell_type": "markdown",
   "metadata": {},
   "source": [
    "# <font color=blue> Python\n",
    "---"
   ]
  },
  {
   "cell_type": "markdown",
   "metadata": {},
   "source": [
    "> Python is a high-level programming language. Python code is often said to be almost like pseudocode, since it allows you to express very powerful ideas in very few lines of code while being very readable.\n",
    ">\n",
    "> <a href=\"https://docs.python.org/3.6/library/index.html\"> Documentation </a>\n",
    "---\n",
    "\n",
    "## Table of Contents\n",
    "\n",
    "[Import](#Import)\n",
    "\n",
    "[Math Operations](#Math-Operations)\n",
    "\n",
    "[Data Types](#Data-Types)\n",
    " - [Numbers](#Numbers)\n",
    " - [Boolenans](#Boolenans)\n",
    " - [Strings](#Strings)\n",
    "\n",
    "[Type Conversion](#Type-Conversion)\n",
    "\n",
    "[Variables](#Variables)\n",
    "\n",
    "[Indentation, Comments and Formatting of Strings](#Indentation,-Comments-and-Formatting-of-Strings) \n",
    "\n",
    "[Containers](#Containers)\n",
    "- [Lists](#Lists)\n",
    "    - [Section](#Section)\n",
    "    - [Slicing](#Slicing)\n",
    "    - [Loops](#Loops-Lists)\n",
    "    - [Mutable Sequence Types](#Mutable-Sequence-Types)\n",
    "    - [List Comprehensions](#List-Comprehensions)\n",
    "- [Tuples](#Tuples)\n",
    "    - [Unpacking](#Unpacking)\n",
    "    - [zip()](#zip())\n",
    "- [Dictionaries](#Dictionaries)\n",
    "    - [Loops](#Loops-Dictionaries)\n",
    "    - [Dictionary Comprehensions](#Dictionary-Comprehensions)\n",
    "    - [Methods](#Methods)\n",
    "- [Sets](#Sets)\n",
    "    - [Operations](#Operations)\n",
    "    - [Loops](#Loops-Sets)\n",
    "    - [Set Comprehensions](Set-Comprehensions)\n",
    "\n",
    "[Functions](#Functions)\n",
    "- [Lambda Expressions](#Lambda-Expressions)\n",
    "- [N values](N-values)\n",
    "\n",
    "[Classes](#Classes)\n",
    "- [Inheritance](#Inheritance)\n",
    "\n",
    "---"
   ]
  },
  {
   "cell_type": "markdown",
   "metadata": {},
   "source": [
    "## Import\n",
    "Most of the functionality in Python is provided by modules. A module can be imported using the ***import*** statement. In some cases, where the name of the module is to long, we can rename it with the statement: ***import ... as ...*** "
   ]
  },
  {
   "cell_type": "code",
   "execution_count": 17,
   "metadata": {},
   "outputs": [],
   "source": [
    "import math\n",
    "\n",
    "# This includes the entire module and makes it available for all of the code "
   ]
  },
  {
   "cell_type": "markdown",
   "metadata": {},
   "source": [
    "If you want to look what a module contains:"
   ]
  },
  {
   "cell_type": "code",
   "execution_count": 18,
   "metadata": {},
   "outputs": [
    {
     "name": "stdout",
     "output_type": "stream",
     "text": [
      "['__doc__', '__loader__', '__name__', '__package__', '__spec__', 'acos', 'acosh', 'asin', 'asinh', 'atan', 'atan2', 'atanh', 'ceil', 'comb', 'copysign', 'cos', 'cosh', 'degrees', 'dist', 'e', 'erf', 'erfc', 'exp', 'expm1', 'fabs', 'factorial', 'floor', 'fmod', 'frexp', 'fsum', 'gamma', 'gcd', 'hypot', 'inf', 'isclose', 'isfinite', 'isinf', 'isnan', 'isqrt', 'ldexp', 'lgamma', 'log', 'log10', 'log1p', 'log2', 'modf', 'nan', 'perm', 'pi', 'pow', 'prod', 'radians', 'remainder', 'sin', 'sinh', 'sqrt', 'tan', 'tanh', 'tau', 'trunc']\n"
     ]
    }
   ],
   "source": [
    "import math\n",
    "\n",
    "print(dir(math))"
   ]
  },
  {
   "cell_type": "markdown",
   "metadata": {},
   "source": [
    "To import only the symbols of a module you will use, like this:"
   ]
  },
  {
   "cell_type": "code",
   "execution_count": 19,
   "metadata": {},
   "outputs": [
    {
     "name": "stdout",
     "output_type": "stream",
     "text": [
      "1.0\n"
     ]
    }
   ],
   "source": [
    "from math import cos, pi\n",
    "\n",
    "x = cos(2*pi)\n",
    "print(x)"
   ]
  },
  {
   "cell_type": "markdown",
   "metadata": {},
   "source": [
    "## Math Operations"
   ]
  },
  {
   "cell_type": "code",
   "execution_count": 20,
   "metadata": {},
   "outputs": [
    {
     "name": "stdout",
     "output_type": "stream",
     "text": [
      "11\n",
      "9\n",
      "20\n",
      "5.0\n",
      "100\n"
     ]
    }
   ],
   "source": [
    "x = 10\n",
    "print(x + 1)    #Addition\n",
    "print(x - 1)    #Subtraction\n",
    "print(x * 2)    #Multiplication\n",
    "print(x / 2)    #Division\n",
    "print(x ** 2)   #Potential"
   ]
  },
  {
   "cell_type": "markdown",
   "metadata": {},
   "source": [
    "Special divisions:"
   ]
  },
  {
   "cell_type": "code",
   "execution_count": 21,
   "metadata": {},
   "outputs": [
    {
     "name": "stdout",
     "output_type": "stream",
     "text": [
      "3\n",
      "0\n"
     ]
    }
   ],
   "source": [
    "x = 10\n",
    "print(x // 3)   #returns an int number\n",
    "print(x % 2)    #returns what is left of the division "
   ]
  },
  {
   "cell_type": "markdown",
   "metadata": {},
   "source": [
    "The variable _ : In interactive mode, the last printed result is assigned to the variable _ "
   ]
  },
  {
   "cell_type": "code",
   "execution_count": 22,
   "metadata": {},
   "outputs": [
    {
     "data": {
      "text/plain": [
       "10"
      ]
     },
     "execution_count": 22,
     "metadata": {},
     "output_type": "execute_result"
    }
   ],
   "source": [
    "5 * 2"
   ]
  },
  {
   "cell_type": "code",
   "execution_count": 23,
   "metadata": {},
   "outputs": [
    {
     "data": {
      "text/plain": [
       "15"
      ]
     },
     "execution_count": 23,
     "metadata": {},
     "output_type": "execute_result"
    }
   ],
   "source": [
    "_ + 5"
   ]
  },
  {
   "cell_type": "markdown",
   "metadata": {},
   "source": [
    "## Data Types\n",
    "The data types specify how numbers and characters will be stored and manipulated within a program.\n",
    "\n",
    "\n",
    "### Numbers\n",
    "Integers and floats work like other languages:"
   ]
  },
  {
   "cell_type": "code",
   "execution_count": 24,
   "metadata": {},
   "outputs": [
    {
     "name": "stdout",
     "output_type": "stream",
     "text": [
      "<class 'int'>\n"
     ]
    }
   ],
   "source": [
    "x = 2\n",
    "print(type(x))"
   ]
  },
  {
   "cell_type": "code",
   "execution_count": 25,
   "metadata": {},
   "outputs": [
    {
     "name": "stdout",
     "output_type": "stream",
     "text": [
      "<class 'float'>\n"
     ]
    }
   ],
   "source": [
    "y = 2.0\n",
    "print(type(y))"
   ]
  },
  {
   "cell_type": "markdown",
   "metadata": {},
   "source": [
    "However, unlike other languages, Python has no unnary increment or decrement operator (x ++ / x--)."
   ]
  },
  {
   "cell_type": "markdown",
   "metadata": {},
   "source": [
    "### Booleans\n",
    "Python uses all the usual operators for Boolean logic, but it uses long words in English instead of symbols: "
   ]
  },
  {
   "cell_type": "code",
   "execution_count": 27,
   "metadata": {},
   "outputs": [
    {
     "name": "stdout",
     "output_type": "stream",
     "text": [
      "False\n",
      "True\n",
      "False\n",
      "True\n",
      "<class 'bool'>\n"
     ]
    }
   ],
   "source": [
    "true = True\n",
    "false = False\n",
    "\n",
    "print(true and false)\n",
    "print(true or false)\n",
    "print(not true)\n",
    "print(true != false)\n",
    "\n",
    "print(type(t))"
   ]
  },
  {
   "cell_type": "markdown",
   "metadata": {},
   "source": [
    "### Strings\n",
    "Strings in python are imutable. So, if you need a different string, you have to create a new one. You can use '' or \"\".\n",
    "\n",
    "Counting the letters:"
   ]
  },
  {
   "cell_type": "code",
   "execution_count": 36,
   "metadata": {},
   "outputs": [
    {
     "name": "stdout",
     "output_type": "stream",
     "text": [
      "7\n"
     ]
    }
   ],
   "source": [
    "example = 'exemple'\n",
    "print(len(example))"
   ]
  },
  {
   "cell_type": "markdown",
   "metadata": {},
   "source": [
    "Print types:"
   ]
  },
  {
   "cell_type": "code",
   "execution_count": 44,
   "metadata": {},
   "outputs": [
    {
     "name": "stdout",
     "output_type": "stream",
     "text": [
      "hello\n",
      "hello world!\n",
      "hello world! 7\n",
      "HELLO WORLD! hello world! Hello world!\n",
      "                            hello world!\n",
      "              hello world!              \n",
      "he(ell)(ell)o wor(ell)d!\n"
     ]
    }
   ],
   "source": [
    "hello = 'hello'\n",
    "world = \"world!\"\n",
    "print(hello)\n",
    "\n",
    "hw = hello + ' ' + world\n",
    "print(hw)\n",
    "print(\"{0} {1} {2}\".format(hello, world, 7))\n",
    "\n",
    "print(hw.upper(), hw.lower(), hw.capitalize())\n",
    "print(hw.rjust(40))\n",
    "print(hw.center(40))\n",
    "print(hw.replace('l', '(ell)'))\n"
   ]
  },
  {
   "cell_type": "markdown",
   "metadata": {},
   "source": [
    "If the sentence has words in quotation marks:"
   ]
  },
  {
   "cell_type": "code",
   "execution_count": 45,
   "metadata": {
    "scrolled": true
   },
   "outputs": [
    {
     "name": "stdout",
     "output_type": "stream",
     "text": [
      "hello \"world!\"\n",
      "hello 'world!'\n"
     ]
    }
   ],
   "source": [
    "sentece = 'hello \"world!\"'\n",
    "sentece2 = \"hello 'world!'\"\n",
    "\n",
    "print(sentece)\n",
    "print(sentece2)"
   ]
  },
  {
   "cell_type": "markdown",
   "metadata": {},
   "source": [
    "## Type Conversion\n",
    "\n",
    "Its possible to convert numbers and strings with the following functions: int(), float(), str()"
   ]
  },
  {
   "cell_type": "code",
   "execution_count": 19,
   "metadata": {},
   "outputs": [
    {
     "name": "stdout",
     "output_type": "stream",
     "text": [
      "<class 'float'>\n",
      "<class 'str'>\n",
      "<class 'str'>\n",
      "PI number is equal to 3.141592\n",
      "PI number is equal to 3.141592\n",
      "3\n",
      "1.0\n"
     ]
    }
   ],
   "source": [
    "p = 3.141592 \n",
    "x = 'PI number is equal to '\n",
    "y = '3.141592'\n",
    "z = 1\n",
    "\n",
    "print(type(p))\n",
    "print(type(x))\n",
    "print(type(y))\n",
    "\n",
    "print(x + y)\n",
    "print(x + str(p))\n",
    "print(int(p))\n",
    "print(float(z))"
   ]
  },
  {
   "cell_type": "markdown",
   "metadata": {},
   "source": [
    "## Variables\n",
    "\n",
    "- Variable names can begin with letters (a - z, A - Z) or the underscore character (_): \n",
    "> Example\n",
    ">\n",
    "> _example\n",
    "\n",
    "- The rest of the name can contain letters, numbers and the character \"_\":\n",
    "> example_two\n",
    ">\n",
    "> name_of_variable\n",
    ">\n",
    "> example_2_\n",
    "\n",
    "- Names are case-sensitive:\n",
    "> examplE_three\n",
    ">\n",
    "> EXAMPLE_THREE\n",
    "\n",
    "- There are some reserved words (keywords) of the language that cannot be used as variable names:\n",
    "\n",
    "    | |Keywords| |\n",
    "    |:-------------:|:------------:|:-------------:|\n",
    "    | and           | as           | not           | \n",
    "    | assert        | finally      | or            | \n",
    "    | break         | for          | pass          | \n",
    "    | class         | from         | nonlocal      | \n",
    "    | continue      | global       | raise         | \n",
    "    | def           | if           | return        | \n",
    "    | del           | import       | try           | \n",
    "    | elif          | in           | while         | \n",
    "    | else          | is           | with          | \n",
    "    | except        | lambda       | yield         | \n",
    "    | False         | True         | None          | "
   ]
  },
  {
   "cell_type": "markdown",
   "metadata": {},
   "source": [
    "## Indentation, Comments and Formatting of Strings\n",
    "\n",
    "### Indetation\n",
    "In Python, programs are structured using indentation. In any programming language the practice of indentation is very useful, making it easier to read and also maintain the code. In Python, indentation is not just a matter of organization and style, but a **requirement of language.** "
   ]
  },
  {
   "cell_type": "code",
   "execution_count": 20,
   "metadata": {},
   "outputs": [
    {
     "name": "stdout",
     "output_type": "stream",
     "text": [
      "The numbers are different\n"
     ]
    }
   ],
   "source": [
    "x = 5\n",
    "y = 7\n",
    "\n",
    "if(x==y):\n",
    "    print(\"It's the same number!\")\n",
    "else:\n",
    "    print('The numbers are different!')"
   ]
  },
  {
   "cell_type": "code",
   "execution_count": 21,
   "metadata": {},
   "outputs": [
    {
     "name": "stdout",
     "output_type": "stream",
     "text": [
      "item1\n",
      "item2\n",
      "item3\n",
      "item4\n",
      "item5\n"
     ]
    }
   ],
   "source": [
    "l = ['item1', 'item2', 'item3', 'item4', 'item5']\n",
    "\n",
    "for item in l:\n",
    "    print(item)"
   ]
  },
  {
   "cell_type": "markdown",
   "metadata": {},
   "source": [
    "### Comments\n",
    "In Python, we have comments in a single line or in multiple lines:"
   ]
  },
  {
   "cell_type": "code",
   "execution_count": 27,
   "metadata": {
    "scrolled": false
   },
   "outputs": [
    {
     "data": {
      "text/plain": [
       "' \\nThis is also \\na comment \\n\\n'"
      ]
     },
     "execution_count": 27,
     "metadata": {},
     "output_type": "execute_result"
    }
   ],
   "source": [
    "# This is a comment\n",
    "\n",
    "''' \n",
    "This is also \n",
    "a comment \n",
    "'''"
   ]
  },
  {
   "cell_type": "markdown",
   "metadata": {},
   "source": [
    "### Formatting of Strings\n",
    "\n",
    "#### str.format()"
   ]
  },
  {
   "cell_type": "code",
   "execution_count": 30,
   "metadata": {},
   "outputs": [
    {
     "name": "stdout",
     "output_type": "stream",
     "text": [
      "Hi, my name is Carol!\n"
     ]
    }
   ],
   "source": [
    "print('Hi, my name is {}!'.format('Carol'))"
   ]
  },
  {
   "cell_type": "markdown",
   "metadata": {},
   "source": [
    "#### f-Strings"
   ]
  },
  {
   "cell_type": "code",
   "execution_count": 33,
   "metadata": {},
   "outputs": [
    {
     "name": "stdout",
     "output_type": "stream",
     "text": [
      "Hello, my name is Carol! I'm 24 years old\n"
     ]
    }
   ],
   "source": [
    "name = 'Carol'\n",
    "age = 24\n",
    "\n",
    "print(f\"Hello, my name is {name}! I'm {age} years old\")"
   ]
  },
  {
   "cell_type": "markdown",
   "metadata": {},
   "source": [
    "## Containers\n",
    "Python includes some built-in container types: lists, dictionaries, sets, and tuples.\n",
    "\n",
    "### Lists\n",
    "A list is the Python equivalent of an array, but is resizable and can contains elements of different types. Lists can be built in several ways: \n",
    "\n",
    " - Using a pair of square brakets: [0], [1]\n",
    " - Using a pair of square brackets with items separated by commas: [0, 1, 2, 3]"
   ]
  },
  {
   "cell_type": "code",
   "execution_count": 25,
   "metadata": {},
   "outputs": [
    {
     "name": "stdout",
     "output_type": "stream",
     "text": [
      "[0, 1, 2, 3]\n",
      "[0, 1, 2, 'new']\n"
     ]
    }
   ],
   "source": [
    "l = []    # empty list\n",
    "l = [0, 1, 2, 3]\n",
    "\n",
    "print(l)\n",
    "\n",
    "# Lists can contain elements of different types:\n",
    "l[3] = 'new'\n",
    "print(l)"
   ]
  },
  {
   "cell_type": "markdown",
   "metadata": {},
   "source": [
    "#### Selection"
   ]
  },
  {
   "cell_type": "code",
   "execution_count": 11,
   "metadata": {},
   "outputs": [
    {
     "name": "stdout",
     "output_type": "stream",
     "text": [
      "2\n",
      "3\n"
     ]
    }
   ],
   "source": [
    "l = [0, 1, 2, 3]\n",
    "\n",
    "# A[i]\n",
    "print(l[2])\n",
    "print(l[-1])  # Negative indices count form the end of the list"
   ]
  },
  {
   "cell_type": "markdown",
   "metadata": {},
   "source": [
    "#### Slicing"
   ]
  },
  {
   "cell_type": "code",
   "execution_count": 14,
   "metadata": {},
   "outputs": [
    {
     "name": "stdout",
     "output_type": "stream",
     "text": [
      "[0, 1, 2, 3, 4, 5, 6, 7, 8, 9]\n",
      "[1, 2, 3, 4, 5]\n",
      "[1, 2, 3, 4, 5, 6, 7, 8, 9]\n",
      "[0, 1]\n",
      "[0, 1, 2, 3, 4, 5, 6, 7, 8, 9]\n",
      "[0, 1, 2, 3, 4, 5, 6, 7, 8]\n",
      "[0, 1, 8, 9, 6, 7, 8, 9]\n"
     ]
    }
   ],
   "source": [
    "sli = list(range(10)) # range is a built-in function that creates a list of integers\n",
    "print(sli)\n",
    "\n",
    "print(sli[1:6])\n",
    "print(sli[1:])\n",
    "print(sli[:2])\n",
    "print(sli[:])\n",
    "print(sli[:-1])\n",
    "\n",
    "sli[2:6] = [8,9] # Assign a new sublist to a slice\n",
    "print(sli)"
   ]
  },
  {
   "cell_type": "markdown",
   "metadata": {},
   "source": [
    "#### Loops Lists"
   ]
  },
  {
   "cell_type": "code",
   "execution_count": 21,
   "metadata": {},
   "outputs": [
    {
     "name": "stdout",
     "output_type": "stream",
     "text": [
      "cat! dog! bird! "
     ]
    }
   ],
   "source": [
    "animals = ['cat', 'dog', 'bird']\n",
    "for animal in animals:\n",
    "    print(animal, end='! ')"
   ]
  },
  {
   "cell_type": "code",
   "execution_count": 22,
   "metadata": {},
   "outputs": [
    {
     "name": "stdout",
     "output_type": "stream",
     "text": [
      "0: cat\n",
      "1: dog\n",
      "2: bird\n"
     ]
    }
   ],
   "source": [
    "for idx, animal in enumerate(animals):\n",
    "    print('{0}: {1}'.format(idx, animal))"
   ]
  },
  {
   "cell_type": "code",
   "execution_count": 23,
   "metadata": {},
   "outputs": [
    {
     "name": "stdout",
     "output_type": "stream",
     "text": [
      "cat\n",
      "dog\n",
      "bird\n"
     ]
    }
   ],
   "source": [
    "for i in range(len(animals)):\n",
    "    print(animals[i])"
   ]
  },
  {
   "cell_type": "code",
   "execution_count": 24,
   "metadata": {},
   "outputs": [
    {
     "name": "stdout",
     "output_type": "stream",
     "text": [
      "cat apple\n",
      "dog banana\n"
     ]
    }
   ],
   "source": [
    "fruits = ['apple', 'banana']\n",
    "for a,b in zip(animals, fruits):\n",
    "    print(a,b) # stops at the smaller length"
   ]
  },
  {
   "cell_type": "markdown",
   "metadata": {},
   "source": [
    "#### Mutable Sequence Types"
   ]
  },
  {
   "cell_type": "code",
   "execution_count": 34,
   "metadata": {},
   "outputs": [
    {
     "name": "stdout",
     "output_type": "stream",
     "text": [
      "[0, 1, 2, 3, 4, 5, 6]\n",
      "[0, 1, 2, 3, 4, 5, 6, 7]\n",
      "[0, 1, 2, 3, 4, 5, 6]\n",
      "[0, 1, 2, 3, 4, 5, 6]\n",
      "[]\n"
     ]
    }
   ],
   "source": [
    "l = [0, 4, 6, 5, 3, 1, 2]\n",
    "\n",
    "l.sort() #organizes the list in ascending order\n",
    "print(l)\n",
    "\n",
    "l.append(7) #add a new item\n",
    "print(l)\n",
    "\n",
    "l.pop() #remove the last item\n",
    "print(l)\n",
    "\n",
    "l2 = l.copy() #copy\n",
    "print(l2)\n",
    "\n",
    "l2.clear() #remove all items\n",
    "print(l2)\n"
   ]
  },
  {
   "cell_type": "markdown",
   "metadata": {},
   "source": [
    "#### List Comprehensions\n",
    "Useful to transform one type od data into another"
   ]
  },
  {
   "cell_type": "code",
   "execution_count": 46,
   "metadata": {},
   "outputs": [
    {
     "name": "stdout",
     "output_type": "stream",
     "text": [
      "[0, 2, 4, 6, 8, 10, 12, 14, 16, 18, 20]\n",
      "[0, 1, 2, 3, 4, 5]\n",
      "[2, 4, 6, 8, 10]\n",
      "[10]\n",
      "[4, 16]\n",
      "['c', 'c', 'c', 'c', 'c']\n"
     ]
    }
   ],
   "source": [
    "evens_to_20 = [i for i in range(21) if i%2==0]\n",
    "new_list = [x for x in range(0,6)]\n",
    "double = [x*2 for x in range(1,6)]\n",
    "double_by_5 = [x*2 for x in range(1,6) if (x*2)%5 == 0]\n",
    "even_squares = [x**2 for x in range(1,6) if x%2 == 0]\n",
    "C = ['c' for x in range(5) if x < 5]\n",
    "\n",
    "print(evens_to_20)\n",
    "print(new_list)\n",
    "print(double)\n",
    "print(double_by_5)\n",
    "print(even_squares)\n",
    "print(C)"
   ]
  },
  {
   "cell_type": "markdown",
   "metadata": {},
   "source": [
    "### Tuples\n",
    "Tuples are immutable sequences that are used to store collections of items, usually heterogeneous. They can be built in several ways: \n",
    "\n",
    "- Using a pair of parentheses: ()\n",
    "- Using a comma to the right: x,\n",
    "- Using a pair of parentheses with items separated by commas: (x, y, z)\n",
    "- Using tuple() "
   ]
  },
  {
   "cell_type": "code",
   "execution_count": 4,
   "metadata": {},
   "outputs": [
    {
     "name": "stdout",
     "output_type": "stream",
     "text": [
      "('example',)\n",
      "{(0, 1): 0, (1, 2): 1, (2, 3): 2, (3, 4): 3, (4, 5): 4, (5, 6): 5, (6, 7): 6, (7, 8): 7, (8, 9): 8, (9, 10): 9}\n",
      "1\n",
      "2\n"
     ]
    }
   ],
   "source": [
    "t = ()   # empty tuple\n",
    "t = 'example',  #a tuple with one item is constructed by following a value with a comma\n",
    "print(t)\n",
    "\n",
    "d = {(x, x+1):x for x in range(10)} # Create a dictionary with tuple keys\n",
    "print(d)\n",
    "print(d[(1,2)])\n",
    "\n",
    "t = (1, 2, 3)\n",
    "print(t[1])"
   ]
  },
  {
   "cell_type": "markdown",
   "metadata": {},
   "source": [
    "#### Unpacking"
   ]
  },
  {
   "cell_type": "code",
   "execution_count": 6,
   "metadata": {},
   "outputs": [
    {
     "name": "stdout",
     "output_type": "stream",
     "text": [
      "dog\n",
      "cat\n",
      "bird\n",
      "fish\n"
     ]
    }
   ],
   "source": [
    "animals = ('dog', 'cat', 'bird', 'fish')\n",
    "animal_1, animal_2, animal_3, animal_4 = animals\n",
    "\n",
    "print(animal_1)\n",
    "print(animal_2)\n",
    "print(animal_3)\n",
    "print(animal_4)"
   ]
  },
  {
   "cell_type": "markdown",
   "metadata": {},
   "source": [
    "#### zip()"
   ]
  },
  {
   "cell_type": "code",
   "execution_count": 12,
   "metadata": {},
   "outputs": [
    {
     "name": "stdout",
     "output_type": "stream",
     "text": [
      "dog 3\n",
      "cat 5\n",
      "bird 6\n",
      "fish 1\n"
     ]
    }
   ],
   "source": [
    "animals = ['dog', 'cat', 'bird', 'fish']\n",
    "amount = [3, 5, 6, 1]\n",
    "\n",
    "list(zip(animals, amount))\n",
    "\n",
    "for animal, number in zip(animals, amount):\n",
    "    print(animal, number)"
   ]
  },
  {
   "cell_type": "markdown",
   "metadata": {},
   "source": [
    "### Dictionaries\n",
    "Dictionaries are data strucutures that represent a type of mapping. Mappings are collections of assiciations between pairs of values where the first of the pair is a key and the second is a value. Dictionaries are mutable.\n",
    "\n",
    "```\n",
    "dictionary = {key_1: value_1, key_2: value_2, ..., key_n: value_n}\n",
    "```"
   ]
  },
  {
   "cell_type": "code",
   "execution_count": 17,
   "metadata": {},
   "outputs": [
    {
     "name": "stdout",
     "output_type": "stream",
     "text": [
      "<class 'dict'>\n",
      "cute\n",
      "True\n",
      "wet\n",
      "N/A\n",
      "wet\n",
      "N/A\n"
     ]
    }
   ],
   "source": [
    "d = {'cat': 'cute', 'dog': 'furry'}\n",
    "print(type(d))\n",
    "print(d['cat'])\n",
    "print('cat' in d)   # Check if a dictionary has a give key\n",
    "\n",
    "d['fish'] = 'wet'   # Add an item \n",
    "print(d['fish'])\n",
    "#print d['monkey']    # KeyError: 'monkey' not a key of d\n",
    "print(d.get('monkey', 'N/A'))     # Get an element with a default\n",
    "print(d.get('fish', 'N/A'))\n",
    "del d['fish']      # you can also use del(d['fish'])\n",
    "print(d.get('fish', 'N/A'))    # fish is no longer a key"
   ]
  },
  {
   "cell_type": "markdown",
   "metadata": {},
   "source": [
    "#### Loops Dictionaries\n",
    "The access in dictionaries may not be sequential"
   ]
  },
  {
   "cell_type": "code",
   "execution_count": 13,
   "metadata": {},
   "outputs": [
    {
     "name": "stdout",
     "output_type": "stream",
     "text": [
      "A person has 2 legs\n",
      "A dog has 4 legs\n",
      "A spider has 8 legs\n"
     ]
    }
   ],
   "source": [
    "d = {'person': 2, 'dog': 4, 'spider': 8}\n",
    "for animals in d:\n",
    "    legs = d[animals]\n",
    "    print('A {0} has {1} legs'.format(animals, legs))"
   ]
  },
  {
   "cell_type": "markdown",
   "metadata": {},
   "source": [
    "If you want access to keys and their corresponding values, use item method: "
   ]
  },
  {
   "cell_type": "code",
   "execution_count": 16,
   "metadata": {},
   "outputs": [
    {
     "name": "stdout",
     "output_type": "stream",
     "text": [
      "A person has 2 legs\n",
      "A dog has 4 legs\n",
      "A spider has 8 legs\n"
     ]
    }
   ],
   "source": [
    "for animals, legs in d.items():\n",
    "    print('A {0} has {1} legs'.format(animals, legs))"
   ]
  },
  {
   "cell_type": "markdown",
   "metadata": {},
   "source": [
    "#### Dictionary Comprehensions\n",
    "\n",
    "These are similar to list comprehensions, but allow you to easily construct dictionaries."
   ]
  },
  {
   "cell_type": "code",
   "execution_count": 19,
   "metadata": {},
   "outputs": [
    {
     "name": "stdout",
     "output_type": "stream",
     "text": [
      "{0: 0, 2: 4, 4: 16}\n"
     ]
    }
   ],
   "source": [
    "num = [0, 1, 2, 3, 4]\n",
    "even_num_to_square = {x:x**2 for x in num if x%2 == 0}\n",
    "print(even_num_to_square)"
   ]
  },
  {
   "cell_type": "markdown",
   "metadata": {},
   "source": [
    "#### Methods"
   ]
  },
  {
   "cell_type": "code",
   "execution_count": 25,
   "metadata": {},
   "outputs": [
    {
     "name": "stdout",
     "output_type": "stream",
     "text": [
      "{'person': 2, 'dog': 4, 'spider': 8, 'cat': 2}\n",
      "{'person': 2, 'dog': 4, 'spider': 8, 'cat': 2}\n",
      "{'person': 2, 'dog': 4, 'spider': 8}\n",
      "{}\n"
     ]
    }
   ],
   "source": [
    "# Update a dictionary\n",
    "d = {'person': 2, 'dog': 4, 'spider': 8}\n",
    "d.update({'cat': 2})\n",
    "print(d)\n",
    "\n",
    "# Creates a copy of the dictionary\n",
    "d_copy = d.copy()\n",
    "print(d_copy)\n",
    "\n",
    "# Remove an item\n",
    "# If the key is found in the dictionary, the item is removed and its value is returned. \n",
    "# Otherwise, the value specified as the default is returned. \n",
    "# If the default value is not provided and the key is not found in the dictionary, an error will be generated. \n",
    "\n",
    "d_copy.pop('cat')\n",
    "d_copy.pop('cat', 'Key not found')\n",
    "print(d_copy)\n",
    "\n",
    "# Clear all items\n",
    "d_copy.clear()\n",
    "print(d_copy)"
   ]
  },
  {
   "cell_type": "markdown",
   "metadata": {},
   "source": [
    "### Sets\n",
    "A set is an unordered collection of distinct elements."
   ]
  },
  {
   "cell_type": "code",
   "execution_count": 30,
   "metadata": {},
   "outputs": [
    {
     "name": "stdout",
     "output_type": "stream",
     "text": [
      "True\n",
      "False\n",
      "True\n",
      "3\n",
      "3\n",
      "2\n"
     ]
    }
   ],
   "source": [
    "empty = set()\n",
    "animals = {'dog', 'cat'}\n",
    "print('cat' in animals)\n",
    "print('spider' in animals)\n",
    "\n",
    "# Adding\n",
    "animals.add('spider')\n",
    "print('spider' in animals)\n",
    "print(len(animals))\n",
    "\n",
    "# Adding an element thet is already in the set does nothing\n",
    "animals.add('dog')\n",
    "print(len(animals))\n",
    "\n",
    "# Removing\n",
    "animals.remove('spider')\n",
    "print(len(animals))"
   ]
  },
  {
   "cell_type": "markdown",
   "metadata": {},
   "source": [
    "#### Operations"
   ]
  },
  {
   "cell_type": "code",
   "execution_count": 36,
   "metadata": {},
   "outputs": [
    {
     "name": "stdout",
     "output_type": "stream",
     "text": [
      "{'o', 'j', 'a'}\n",
      "{'i', 'r', 'a', 'm'}\n",
      "{'o', 'j'}\n",
      "{'j', 'a', 'm', 'o', 'i', 'r'}\n",
      "{'a'}\n",
      "{'r', 'j', 'm', 'o', 'i'}\n"
     ]
    }
   ],
   "source": [
    "a = set('joao')\n",
    "b = set('maria')\n",
    "print(a, b, sep='\\n')\n",
    "\n",
    "print(a - b) # letters in a but not in b\n",
    "print(a | b) # letters in either a or b\n",
    "print(a & b) # letters in both a and b\n",
    "print(a ^ b) # letters in a or b but not both"
   ]
  },
  {
   "cell_type": "markdown",
   "metadata": {},
   "source": [
    "#### Loops Sets"
   ]
  },
  {
   "cell_type": "code",
   "execution_count": 37,
   "metadata": {},
   "outputs": [
    {
     "name": "stdout",
     "output_type": "stream",
     "text": [
      "0: dog\n",
      "1: cat\n",
      "2: spider\n"
     ]
    }
   ],
   "source": [
    "animals = {'cat', 'dog', 'spider'}\n",
    "for idx, animal in enumerate(animals):\n",
    "    print('{0}: {1}'.format(idx, animal))"
   ]
  },
  {
   "cell_type": "markdown",
   "metadata": {},
   "source": [
    "#### Set Comprehensions\n"
   ]
  },
  {
   "cell_type": "code",
   "execution_count": 38,
   "metadata": {},
   "outputs": [
    {
     "name": "stdout",
     "output_type": "stream",
     "text": [
      "{0, 1, 2, 3, 4, 5}\n"
     ]
    }
   ],
   "source": [
    "from math import sqrt\n",
    "nums = {int(sqrt(x)) for x in range(30)}\n",
    "print(nums)"
   ]
  },
  {
   "cell_type": "markdown",
   "metadata": {},
   "source": [
    "## Functions\n",
    "Python functions are defined using the *def* keyword\n",
    "\n",
    "```\n",
    "def <name>():\n",
    "    <instructions>\n",
    "    return <result>\n",
    "```"
   ]
  },
  {
   "cell_type": "code",
   "execution_count": 45,
   "metadata": {},
   "outputs": [
    {
     "name": "stdout",
     "output_type": "stream",
     "text": [
      "False\n",
      "False\n",
      "True\n",
      "False\n",
      "False\n",
      "True\n"
     ]
    }
   ],
   "source": [
    "def by_three(x):\n",
    "    return x%3==0\n",
    "\n",
    "l = range(1,7)\n",
    "for i in l:\n",
    "    print(by_three(i))\n"
   ]
  },
  {
   "cell_type": "markdown",
   "metadata": {},
   "source": [
    "#### Lambda Expressions\n",
    "Lambda expressions are an useful syntax for short functions."
   ]
  },
  {
   "cell_type": "code",
   "execution_count": 46,
   "metadata": {},
   "outputs": [
    {
     "name": "stdout",
     "output_type": "stream",
     "text": [
      "[3, 6]\n",
      "[3, 6]\n"
     ]
    }
   ],
   "source": [
    "\n",
    "nums_func = list(filter(by_three, l))\n",
    "print(nums_func)\n",
    "\n",
    "nums_lam = list(filter(lambda x:x%3 == 0, l))\n",
    "print(nums_lam)"
   ]
  },
  {
   "cell_type": "markdown",
   "metadata": {},
   "source": [
    "#### N values\n",
    "\n",
    "```\n",
    "def <name>(<param_1>, <param_2>, ..., <param_n>):\n",
    "    <instructions>\n",
    "    return (<result_1>, <result_2>, ..., <result_n>)\n",
    "```"
   ]
  },
  {
   "cell_type": "code",
   "execution_count": 55,
   "metadata": {},
   "outputs": [
    {
     "name": "stdout",
     "output_type": "stream",
     "text": [
      "2.0\n"
     ]
    }
   ],
   "source": [
    "def average(num_1, num_2, num_3):\n",
    "    val = (num_1+num_2+num_3) / 3\n",
    "    return (val)\n",
    "    \n",
    "print(average(1, 2, 3))"
   ]
  },
  {
   "cell_type": "markdown",
   "metadata": {},
   "source": [
    "## Classes"
   ]
  },
  {
   "cell_type": "code",
   "execution_count": 57,
   "metadata": {},
   "outputs": [
    {
     "name": "stdout",
     "output_type": "stream",
     "text": [
      "200.0\n"
     ]
    }
   ],
   "source": [
    "class Employee(object):\n",
    "    def __init__(self, employee_name):\n",
    "        self.employee_name = employee_name\n",
    "        \n",
    "    def calculate_wage(self, hours):\n",
    "        self.hours = hours\n",
    "        return hours*20.0\n",
    "\n",
    "carol = Employee(\"Carol\")\n",
    "print(carol.calculate_wage(10))"
   ]
  },
  {
   "cell_type": "markdown",
   "metadata": {},
   "source": [
    "#### Inheritance"
   ]
  },
  {
   "cell_type": "code",
   "execution_count": 58,
   "metadata": {},
   "outputs": [
    {
     "name": "stdout",
     "output_type": "stream",
     "text": [
      "120.0\n",
      "200.0\n"
     ]
    }
   ],
   "source": [
    "class PartTimeEmployee(Employee): # you define the inheritance here\n",
    "    def calculate_wage(self, hours): # Override method\n",
    "        self.hours = hours\n",
    "        return self.hours*12.0\n",
    "    \n",
    "    def full_time_wage(self, hours): # Calling superclass method\n",
    "        return super(PartTimeEmployee, self).calculate_wage(hours)\n",
    "    \n",
    "jeff = PartTimeEmployee(\"Jeff\")\n",
    "print(jeff.calculate_wage(10))\n",
    "print(jeff.full_time_wage(10))"
   ]
  }
 ],
 "metadata": {
  "kernelspec": {
   "display_name": "Python 3",
   "language": "python",
   "name": "python3"
  },
  "language_info": {
   "codemirror_mode": {
    "name": "ipython",
    "version": 3
   },
   "file_extension": ".py",
   "mimetype": "text/x-python",
   "name": "python",
   "nbconvert_exporter": "python",
   "pygments_lexer": "ipython3",
   "version": "3.8.5"
  }
 },
 "nbformat": 4,
 "nbformat_minor": 4
}
